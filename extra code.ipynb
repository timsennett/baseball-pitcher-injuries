{
 "cells": [
  {
   "cell_type": "code",
   "execution_count": null,
   "metadata": {},
   "outputs": [],
   "source": [
    "# set index to 'game_date' column\n",
    "# sale.set_index('game_date', inplace=True)\n",
    "\n",
    "# sanity check\n",
    "# sale.head()\n",
    "\n",
    "# Confirm that 'game_date' values are used for indexing purpose in the dataset \n",
    "# sale.index\n",
    "\n",
    "# I'm seeing that the dates here are still of \"object\" data-type. I'll need\n",
    "# to change the dates in the dataset from \"object\" to \"datetime\" (i.e.,\n",
    "# change the data type of dates). This can be done using\n",
    "# the to_datetime() function from Pandas.\n",
    "\n",
    "# Convert 'game_date' to a datetime column\n",
    "# sale.index = pd.to_datetime(sale.index, format='%Y-%m-%d')\n",
    "\n",
    "# Confirm that 'game_date' values are used for indexing purpose in the dataset \n",
    "# sale.index\n",
    "\n",
    "# With that taken care of, I'll now zoom in on all of Chris Sale's pitches\n",
    "# thrown on June 4, 2016, where there are\n",
    "# still 66 null values present under pitch_name.\n",
    "\n",
    "# sale['2016-06-04']"
   ]
  }
 ],
 "metadata": {
  "kernelspec": {
   "display_name": "learn-env",
   "language": "python",
   "name": "learn-env"
  },
  "language_info": {
   "codemirror_mode": {
    "name": "ipython",
    "version": 3
   },
   "file_extension": ".py",
   "mimetype": "text/x-python",
   "name": "python",
   "nbconvert_exporter": "python",
   "pygments_lexer": "ipython3",
   "version": "3.6.6"
  }
 },
 "nbformat": 4,
 "nbformat_minor": 2
}
