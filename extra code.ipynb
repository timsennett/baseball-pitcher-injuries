{
 "cells": [
  {
   "cell_type": "code",
   "execution_count": null,
   "metadata": {},
   "outputs": [],
   "source": [
    "# set index to 'game_date' column\n",
    "# sale.set_index('game_date', inplace=True)\n",
    "\n",
    "# sanity check\n",
    "# sale.head()\n",
    "\n",
    "# Confirm that 'game_date' values are used for indexing purpose in the dataset \n",
    "# sale.index\n",
    "\n",
    "# I'm seeing that the dates here are still of \"object\" data-type. I'll need\n",
    "# to change the dates in the dataset from \"object\" to \"datetime\" (i.e.,\n",
    "# change the data type of dates). This can be done using\n",
    "# the to_datetime() function from Pandas.\n",
    "\n",
    "# Convert 'game_date' to a datetime column\n",
    "# sale.index = pd.to_datetime(sale.index, format='%Y-%m-%d')\n",
    "\n",
    "# Confirm that 'game_date' values are used for indexing purpose in the dataset \n",
    "# sale.index\n",
    "\n",
    "# With that taken care of, I'll now zoom in on all of Chris Sale's pitches\n",
    "# thrown on June 4, 2016, where there are\n",
    "# still 66 null values present under pitch_name.\n",
    "\n",
    "# sale['2016-06-04']"
   ]
  },
  {
   "cell_type": "code",
   "execution_count": null,
   "metadata": {},
   "outputs": [],
   "source": [
    "# pct_dropped = (len(sale[sale['release_pos_x'].isnull()]) / len(sale)) * 10\n",
    "# print(\"I'm only dropping {}% of the rows.\".format(round(pct_dropped, 3)))\n",
    "\n",
    "# drop 134 rows where there are null values in 'release_pos_x'\n",
    "# sale.dropna(subset=['release_pos_x'], inplace = True)"
   ]
  },
  {
   "cell_type": "markdown",
   "metadata": {},
   "source": [
    "As expected, where there are missing values under effective_speed, there tends to also be missing values under release_extension (and under release_spin_rate too, as it happens).\n",
    "\n",
    "It doesn't look like this occurs in bunches, or that all such instances of null values occurred in close sequence to one another. These null values are scattered here and there between 2015–2019, though a clear majority of them occur in 2015. (This also happens to be the first season when Statcast was implemented throughout Major League Baseball.)\n",
    "\n",
    "I'm inclined to fill the missing values in release_extension with the median value for that feature. One thing to keep in mind, however, is that the median might be significantly fluctuate with pitch-type. (Or, it might not. Pitchers are known for trying to replicate the mechanics of their delivery with each pitch. This way, it's more difficult for the batter to pick up on visual queues that might indicate what type of pitch is coming.)\n",
    "\n",
    "Just to be sure, I'll inspect the median figures for this feature, and see if the pitch-type carries any weight."
   ]
  },
  {
   "cell_type": "code",
   "execution_count": null,
   "metadata": {},
   "outputs": [],
   "source": [
    "# STOP include graph showing release_extension per pitch name\n",
    "\n",
    "# pitch_names = ['Changeup', 'Slider', '4-Seam Fastball', '2-Seam Fastball']\n",
    "# for name in pitch_names:\n",
    "#     print(f\"Median release extension for {name}: {sale[sale['pitch_name']==name]['release_extension'].median()}\")"
   ]
  },
  {
   "cell_type": "code",
   "execution_count": null,
   "metadata": {},
   "outputs": [],
   "source": [
    "# When Chris Sale throws a slider—one of his two most heavily utilized pitches—his\n",
    "# release-point is roughly half-a-foot closer to the pitcher's mound (and farther\n",
    "# from home plate) than it is when he throws any other pitch. This is good to know,\n",
    "# especially because release_extension is intrinsically tied to effective_speed,\n",
    "# and thus will strongly inform how I soon deal with those missing values.\n",
    "\n",
    "# Knowing what I now know, I'm comfortable with the idea of filling the\n",
    "# missing release_extension values with the respective medians for each pitch-type."
   ]
  }
 ],
 "metadata": {
  "kernelspec": {
   "display_name": "learn-env",
   "language": "python",
   "name": "learn-env"
  },
  "language_info": {
   "codemirror_mode": {
    "name": "ipython",
    "version": 3
   },
   "file_extension": ".py",
   "mimetype": "text/x-python",
   "name": "python",
   "nbconvert_exporter": "python",
   "pygments_lexer": "ipython3",
   "version": "3.6.6"
  }
 },
 "nbformat": 4,
 "nbformat_minor": 2
}
